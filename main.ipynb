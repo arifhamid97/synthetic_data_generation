{
  "cells": [
    {
      "cell_type": "markdown",
      "metadata": {
        "colab_type": "text",
        "id": "view-in-github"
      },
      "source": [
        "<a href=\"https://colab.research.google.com/github/sudarshan-koirala/youtube-stuffs/blob/main/langchain/synthetic_data_generation.ipynb\" target=\"_parent\"><img src=\"https://colab.research.google.com/assets/colab-badge.svg\" alt=\"Open In Colab\"/></a>"
      ]
    },
    {
      "cell_type": "markdown",
      "id": "aa3571cc",
      "metadata": {
        "id": "aa3571cc"
      },
      "source": [
        "## Use case\n",
        "\n",
        "Synthetic data refers to artificially generated data that imitates the characteristics of real data without containing any information from actual individuals or entities. It is typically created through mathematical models, algorithms, or other data generation techniques. Synthetic data can be used for a variety of purposes, including testing, research, and training machine learning models, while preserving privacy and security.\n",
        "\n",
        "Benefits of Synthetic Data:\n",
        "\n",
        "1. **Privacy and Security**: No real personal data at risk of breaches.\n",
        "2. **Data Augmentation**: Expands datasets for machine learning.\n",
        "3. **Flexibility**: Create specific or rare scenarios.\n",
        "4. **Cost-effective**: Often cheaper than real-world data collection.\n",
        "5. **Regulatory Compliance**: Helps navigate strict data protection laws.\n",
        "6. **Model Robustness**: Can lead to better generalizing AI models.\n",
        "7. **Rapid Prototyping**: Enables quick testing without real data.\n",
        "8. **Controlled Experimentation**: Simulate specific conditions.\n",
        "9. **Access to Data**: Alternative when real data isn't available.\n",
        "\n",
        "**Note: Despite the benefits, synthetic data should be used carefully, as it may not always capture real-world complexities.**"
      ]
    },
    {
      "cell_type": "markdown",
      "id": "EQ1qYxSgbDMt",
      "metadata": {
        "id": "EQ1qYxSgbDMt"
      },
      "source": [
        "## Quickstart\n",
        "\n",
        "In this notebook, we'll generate synthetic data that determine the user occupation based on the question asked"
      ]
    },
    {
      "cell_type": "markdown",
      "id": "bca57012",
      "metadata": {
        "id": "bca57012"
      },
      "source": [
        "## Setup"
      ]
    },
    {
      "cell_type": "code",
      "execution_count": 1,
      "id": "7bDU3j-Zb0Jf",
      "metadata": {
        "id": "7bDU3j-Zb0Jf"
      },
      "outputs": [],
      "source": [
        "# set environment variables\n",
        "# https://platform.openai.com/account/api-keys\n",
        "import os\n",
        "import getpass\n",
        "\n",
        "os.environ[\"OPENAI_API_KEY\"] = getpass.getpass(\"Enter open API key\")"
      ]
    },
    {
      "cell_type": "code",
      "execution_count": 2,
      "id": "e3kkn3SlbzBF",
      "metadata": {
        "id": "e3kkn3SlbzBF"
      },
      "outputs": [],
      "source": [
        "from langchain.prompts import FewShotPromptTemplate, PromptTemplate\n",
        "from langchain_openai.chat_models import ChatOpenAI\n",
        "from langchain.pydantic_v1 import BaseModel\n",
        "from langchain_experimental.tabular_synthetic_data.openai import create_openai_data_generator\n",
        "from langchain_experimental.tabular_synthetic_data.prompts import SYNTHETIC_FEW_SHOT_SUFFIX, SYNTHETIC_FEW_SHOT_PREFIX"
      ]
    },
    {
      "cell_type": "markdown",
      "id": "a5a0917b",
      "metadata": {
        "id": "a5a0917b"
      },
      "source": [
        "## 1. Define Your Data Model\n",
        "- Every dataset has a structure or a \"schema\".\n",
        "- The Occupation class below serves as our schema for the synthetic data.\n",
        "- By defining this, we're informing our synthetic data generator about the shape and nature of data we expect."
      ]
    },
    {
      "cell_type": "code",
      "execution_count": 3,
      "id": "291bad6e",
      "metadata": {
        "id": "291bad6e"
      },
      "outputs": [],
      "source": [
        "class Occupation(BaseModel):\n",
        "    question: str\n",
        "    occupation: str\n"
      ]
    },
    {
      "cell_type": "markdown",
      "id": "2059ca63",
      "metadata": {
        "id": "2059ca63"
      },
      "source": [
        "## 2. Sample Data\n",
        "To guide the synthetic data generator, it's useful to provide it with a few real-world-like examples. These examples serve as a \"seed\" - they're representative of the kind of data you want, and the generator will use them to create more data that looks similar.\n",
        "\n",
        "Here are some fictional medical billing records:"
      ]
    },
    {
      "cell_type": "code",
      "execution_count": 4,
      "id": "b989b792",
      "metadata": {
        "id": "b989b792"
      },
      "outputs": [],
      "source": [
        "examples = [\n",
        "{\"example\": \"\"\"Question: How can I design a website that looks professional?, occupation:Web Developer\"\"\"},\n",
        "{\"example\": \"\"\"Question: What exercises can help improve my fitness?, occupation:Personal Trainer\"\"\"},\n",
        "{\"example\": \"\"\"Question: How can I teach young children to read?, occupation:Early Childhood Educator\"\"\"},\n",
        "{\"example\": \"\"\"Question: What are the best methods for managing a team?, occupation:Manager\"\"\"},\n",
        "{\"example\": \"\"\"Question: How do I fix a leaking faucet?, occupation:Plumber\"\"\"},\n",
        "{\"example\": \"\"\"Question: How can I create a budget for my business?, occupation:Financial Analyst\"\"\"},\n",
        "{\"example\": \"\"\"Question: What techniques can improve my public speaking skills?, occupation:Public Speaking Coach\"\"\"},\n",
        "{\"example\": \"\"\"Question: How do I care for a dog with special needs?, occupation:Veterinary Technician\"\"\"},\n",
        "{\"example\": \"\"\"Question: What strategies can help improve my mental health?, occupation:Therapist\"\"\"},\n",
        "{\"example\": \"\"\"Question: How do I write a compelling novel?, occupation:Author/Writer\"\"\"},\n",
        "\n",
        "]"
      ]
    },
    {
      "cell_type": "markdown",
      "id": "57e28809",
      "metadata": {
        "id": "57e28809"
      },
      "source": [
        "## 3. Craft a Prompt Template\n",
        "The generator doesn't magically know how to create our data; we need to guide it. We do this by creating a prompt template. This template helps instruct the underlying language model on how to produce synthetic data in the desired format."
      ]
    },
    {
      "cell_type": "code",
      "execution_count": 5,
      "id": "ea6e042e",
      "metadata": {
        "id": "ea6e042e"
      },
      "outputs": [],
      "source": [
        "OPENAI_TEMPLATE = PromptTemplate(input_variables=[\"example\"], template=\"{example}\")\n",
        "\n",
        "prompt_template = FewShotPromptTemplate(\n",
        "    prefix=SYNTHETIC_FEW_SHOT_PREFIX,\n",
        "    examples=examples,\n",
        "    suffix=SYNTHETIC_FEW_SHOT_SUFFIX,\n",
        "    input_variables=[\"subject\", \"extra\"],\n",
        "    example_prompt=OPENAI_TEMPLATE,\n",
        ")"
      ]
    },
    {
      "cell_type": "markdown",
      "id": "fa6da3cb",
      "metadata": {
        "id": "fa6da3cb"
      },
      "source": [
        "The `FewShotPromptTemplate` includes:\n",
        "\n",
        "- `prefix` and `suffix`: These likely contain guiding context or instructions.\n",
        "- `examples`: The sample data we defined earlier.\n",
        "- `input_variables`: These variables (\"subject\", \"extra\") are placeholders you can dynamically fill later. For instance, \"subject\" might be filled with \"occupation\" to guide the model further.\n",
        "- `example_prompt`: This prompt template is the format we want each example row to take in our prompt."
      ]
    },
    {
      "cell_type": "markdown",
      "id": "pI5oGS-fchEi",
      "metadata": {
        "id": "pI5oGS-fchEi"
      },
      "source": [
        "## 4. Creating the Data Generator\n",
        "With the schema and the prompt ready, the next step is to create the data generator. This object knows how to communicate with the underlying language model to get synthetic data."
      ]
    },
    {
      "cell_type": "code",
      "execution_count": 6,
      "id": "1b9ba911",
      "metadata": {
        "id": "1b9ba911"
      },
      "outputs": [],
      "source": [
        "synthetic_data_generator = create_openai_data_generator(\n",
        "    output_schema=Occupation,\n",
        "    llm=ChatOpenAI(temperature=1),\n",
        "    prompt=prompt_template,\n",
        ")"
      ]
    },
    {
      "cell_type": "markdown",
      "id": "a4198bd6",
      "metadata": {
        "id": "a4198bd6"
      },
      "source": [
        "## 5. Generate Synthetic Data\n",
        "Finally, let's get our synthetic data!"
      ]
    },
    {
      "cell_type": "code",
      "execution_count": 7,
      "id": "a424c890",
      "metadata": {
        "id": "a424c890"
      },
      "outputs": [],
      "source": [
        "synthetic_results = synthetic_data_generator.generate(\n",
        "    subject=\"Determine Occupation based on users question\",\n",
        "    extra=\"Based on the question determine what the occupation related. The question must be uniqe and more user-like\",\n",
        "    runs=10,\n",
        ")"
      ]
    },
    {
      "cell_type": "markdown",
      "id": "fa4402e9",
      "metadata": {
        "id": "fa4402e9"
      },
      "source": [
        "This command asks the generator to produce 10 synthetic medical billing records. The results are stored in `synthetic_results`. The output will be a list of the MedicalBilling pydantic models."
      ]
    },
    {
      "cell_type": "code",
      "execution_count": 8,
      "id": "8lIQ7XaJeIsv",
      "metadata": {
        "colab": {
          "base_uri": "https://localhost:8080/"
        },
        "id": "8lIQ7XaJeIsv",
        "outputId": "0ea3c614-8b5b-44c0-ea93-3085b700ec60"
      },
      "outputs": [
        {
          "data": {
            "text/plain": [
              "list"
            ]
          },
          "execution_count": 8,
          "metadata": {},
          "output_type": "execute_result"
        }
      ],
      "source": [
        "type(synthetic_results)"
      ]
    },
    {
      "cell_type": "markdown",
      "id": "NV99vyuGc_us",
      "metadata": {
        "id": "NV99vyuGc_us"
      },
      "source": [
        "## 6. Visualize the Generated Synthetic Data"
      ]
    },
    {
      "cell_type": "code",
      "execution_count": 9,
      "id": "0b03de4d",
      "metadata": {
        "colab": {
          "base_uri": "https://localhost:8080/"
        },
        "id": "0b03de4d",
        "outputId": "e65cd16a-d6ad-474b-f1ae-e58717f04891"
      },
      "outputs": [
        {
          "data": {
            "text/plain": [
              "10"
            ]
          },
          "execution_count": 9,
          "metadata": {},
          "output_type": "execute_result"
        }
      ],
      "source": [
        "len(synthetic_results)"
      ]
    },
    {
      "cell_type": "code",
      "execution_count": 10,
      "id": "U4xA8dAAc-DY",
      "metadata": {
        "colab": {
          "base_uri": "https://localhost:8080/"
        },
        "id": "U4xA8dAAc-DY",
        "outputId": "1271d4b1-1eb6-476a-8377-ae1182987dd6"
      },
      "outputs": [
        {
          "data": {
            "text/plain": [
              "[Occupation(question='How can I improve my cooking skills?', occupation='Chef'),\n",
              " Occupation(question='Where can I find the best ingredients for baking a cake?', occupation='Chef'),\n",
              " Occupation(question='How can I prepare healthy meals for my family?', occupation='Nutritionist'),\n",
              " Occupation(question='How can I train my cat to use the litter box effectively?', occupation='Animal Behaviorist'),\n",
              " Occupation(question='How do I start investing in the stock market?', occupation='Financial Advisor'),\n",
              " Occupation(question='How can I improve my photography skills?', occupation='Photographer'),\n",
              " Occupation(question='How can I become a better graphic designer?', occupation='Graphic Designer'),\n",
              " Occupation(question='How can I learn to play the guitar like a pro?', occupation='Musician'),\n",
              " Occupation(question='Where can I find the best ingredients for baking a cake?', occupation='Chef'),\n",
              " Occupation(question='How can I start my own food blog?', occupation='Food Blogger')]"
            ]
          },
          "execution_count": 10,
          "metadata": {},
          "output_type": "execute_result"
        }
      ],
      "source": [
        "synthetic_results"
      ]
    },
    {
      "cell_type": "markdown",
      "id": "XJ3vfh9UfyLS",
      "metadata": {
        "id": "XJ3vfh9UfyLS"
      },
      "source": [
        "## 7. Converting the synthetic data into Pandas Dataframe"
      ]
    },
    {
      "cell_type": "code",
      "execution_count": 11,
      "id": "LLbrrDNMeQLe",
      "metadata": {
        "colab": {
          "base_uri": "https://localhost:8080/",
          "height": 380
        },
        "id": "LLbrrDNMeQLe",
        "outputId": "223f0c2b-5796-42b1-fe93-a26795ce554b"
      },
      "outputs": [
        {
          "name": "stdout",
          "output_type": "stream",
          "text": [
            "<class 'pandas.core.frame.DataFrame'>\n"
          ]
        },
        {
          "data": {
            "text/html": [
              "<div>\n",
              "<style scoped>\n",
              "    .dataframe tbody tr th:only-of-type {\n",
              "        vertical-align: middle;\n",
              "    }\n",
              "\n",
              "    .dataframe tbody tr th {\n",
              "        vertical-align: top;\n",
              "    }\n",
              "\n",
              "    .dataframe thead th {\n",
              "        text-align: right;\n",
              "    }\n",
              "</style>\n",
              "<table border=\"1\" class=\"dataframe\">\n",
              "  <thead>\n",
              "    <tr style=\"text-align: right;\">\n",
              "      <th></th>\n",
              "      <th>question</th>\n",
              "      <th>occupation</th>\n",
              "    </tr>\n",
              "  </thead>\n",
              "  <tbody>\n",
              "    <tr>\n",
              "      <th>0</th>\n",
              "      <td>How can I improve my cooking skills?</td>\n",
              "      <td>Chef</td>\n",
              "    </tr>\n",
              "    <tr>\n",
              "      <th>1</th>\n",
              "      <td>Where can I find the best ingredients for baki...</td>\n",
              "      <td>Chef</td>\n",
              "    </tr>\n",
              "    <tr>\n",
              "      <th>2</th>\n",
              "      <td>How can I prepare healthy meals for my family?</td>\n",
              "      <td>Nutritionist</td>\n",
              "    </tr>\n",
              "    <tr>\n",
              "      <th>3</th>\n",
              "      <td>How can I train my cat to use the litter box e...</td>\n",
              "      <td>Animal Behaviorist</td>\n",
              "    </tr>\n",
              "    <tr>\n",
              "      <th>4</th>\n",
              "      <td>How do I start investing in the stock market?</td>\n",
              "      <td>Financial Advisor</td>\n",
              "    </tr>\n",
              "    <tr>\n",
              "      <th>5</th>\n",
              "      <td>How can I improve my photography skills?</td>\n",
              "      <td>Photographer</td>\n",
              "    </tr>\n",
              "    <tr>\n",
              "      <th>6</th>\n",
              "      <td>How can I become a better graphic designer?</td>\n",
              "      <td>Graphic Designer</td>\n",
              "    </tr>\n",
              "    <tr>\n",
              "      <th>7</th>\n",
              "      <td>How can I learn to play the guitar like a pro?</td>\n",
              "      <td>Musician</td>\n",
              "    </tr>\n",
              "    <tr>\n",
              "      <th>8</th>\n",
              "      <td>Where can I find the best ingredients for baki...</td>\n",
              "      <td>Chef</td>\n",
              "    </tr>\n",
              "    <tr>\n",
              "      <th>9</th>\n",
              "      <td>How can I start my own food blog?</td>\n",
              "      <td>Food Blogger</td>\n",
              "    </tr>\n",
              "  </tbody>\n",
              "</table>\n",
              "</div>"
            ],
            "text/plain": [
              "                                            question          occupation\n",
              "0               How can I improve my cooking skills?                Chef\n",
              "1  Where can I find the best ingredients for baki...                Chef\n",
              "2     How can I prepare healthy meals for my family?        Nutritionist\n",
              "3  How can I train my cat to use the litter box e...  Animal Behaviorist\n",
              "4      How do I start investing in the stock market?   Financial Advisor\n",
              "5           How can I improve my photography skills?        Photographer\n",
              "6        How can I become a better graphic designer?    Graphic Designer\n",
              "7     How can I learn to play the guitar like a pro?            Musician\n",
              "8  Where can I find the best ingredients for baki...                Chef\n",
              "9                  How can I start my own food blog?        Food Blogger"
            ]
          },
          "execution_count": 11,
          "metadata": {},
          "output_type": "execute_result"
        }
      ],
      "source": [
        "import pandas as pd\n",
        "\n",
        "# Create a list of dictionaries from the objects\n",
        "synthetic_data = []\n",
        "for item in synthetic_results:\n",
        "    synthetic_data.append({\n",
        "        'question': item.question,\n",
        "        'occupation': item.occupation,\n",
        "    })\n",
        "\n",
        "# Create a Pandas DataFrame from the list of dictionaries\n",
        "synthetic_df = pd.DataFrame(synthetic_data)\n",
        "\n",
        "# Display the DataFrame\n",
        "print(type(synthetic_df))\n",
        "synthetic_df"
      ]
    },
    {
      "cell_type": "code",
      "execution_count": 12,
      "id": "3z0FY1xEe81v",
      "metadata": {
        "colab": {
          "base_uri": "https://localhost:8080/"
        },
        "id": "3z0FY1xEe81v",
        "outputId": "614c2dee-388c-4efd-b1e0-16256c2347fb"
      },
      "outputs": [
        {
          "data": {
            "text/plain": [
              "(10, 2)"
            ]
          },
          "execution_count": 12,
          "metadata": {},
          "output_type": "execute_result"
        }
      ],
      "source": [
        "synthetic_df.shape"
      ]
    }
  ],
  "metadata": {
    "colab": {
      "include_colab_link": true,
      "provenance": []
    },
    "kernelspec": {
      "display_name": "Python 3 (ipykernel)",
      "language": "python",
      "name": "python3"
    },
    "language_info": {
      "codemirror_mode": {
        "name": "ipython",
        "version": 3
      },
      "file_extension": ".py",
      "mimetype": "text/x-python",
      "name": "python",
      "nbconvert_exporter": "python",
      "pygments_lexer": "ipython3",
      "version": "3.10.5"
    }
  },
  "nbformat": 4,
  "nbformat_minor": 5
}
